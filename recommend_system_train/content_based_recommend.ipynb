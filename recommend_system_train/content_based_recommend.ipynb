{
  "cells": [
    {
      "cell_type": "code",
      "execution_count": null,
      "metadata": {
        "id": "SA6tppQo0pKr"
      },
      "outputs": [],
      "source": [
        "import pandas as pd\n",
        "from ast import literal_eval\n",
        "books_df = pd.read_csv('data/books_enriched.csv',  index_col=[0], converters={\"genres\": literal_eval})\n",
        "ratings = pd.read_csv('data/ratings.csv', converters={\"genres\": literal_eval})"
      ]
    },
    {
      "cell_type": "code",
      "execution_count": null,
      "metadata": {
        "colab": {
          "base_uri": "https://localhost:8080/"
        },
        "id": "6ianXxq6DJJQ",
        "outputId": "ec8e5709-7fb2-43e1-d47d-c8463a92f9ef"
      },
      "outputs": [
        {
          "name": "stdout",
          "output_type": "stream",
          "text": [
            "<class 'pandas.core.frame.DataFrame'>\n",
            "RangeIndex: 5976479 entries, 0 to 5976478\n",
            "Data columns (total 3 columns):\n",
            " #   Column   Dtype\n",
            "---  ------   -----\n",
            " 0   user_id  int64\n",
            " 1   book_id  int64\n",
            " 2   rating   int64\n",
            "dtypes: int64(3)\n",
            "memory usage: 136.8 MB\n"
          ]
        }
      ],
      "source": [
        "ratings.info()"
      ]
    },
    {
      "cell_type": "code",
      "execution_count": null,
      "metadata": {
        "id": "TGMA62oXIOPM"
      },
      "outputs": [],
      "source": [
        "#book_cols= ['book_id', 'title', 'authors','original_publication_year','genres','pages','average_rating','description']\n",
        "book_cols= ['book_id', 'title', 'authors','genres','average_rating']\n",
        "books_df = books_df[book_cols]"
      ]
    },
    {
      "cell_type": "code",
      "execution_count": null,
      "metadata": {
        "id": "hW3fEAQjDUoR"
      },
      "outputs": [],
      "source": []
    },
    {
      "cell_type": "code",
      "execution_count": null,
      "metadata": {
        "id": "KtdHKk6nNyp4"
      },
      "outputs": [],
      "source": [
        "book_rating = ratings.merge(books_df, on='book_id')"
      ]
    },
    {
      "cell_type": "markdown",
      "metadata": {
        "id": "-VqwnBCpNClC"
      },
      "source": [
        "# Baseline model"
      ]
    },
    {
      "cell_type": "code",
      "execution_count": null,
      "metadata": {
        "colab": {
          "base_uri": "https://localhost:8080/"
        },
        "id": "7ZnmpDhNNTMZ",
        "outputId": "bec55677-1938-4832-b6c7-c6298f54c4b9"
      },
      "outputs": [
        {
          "name": "stdout",
          "output_type": "stream",
          "text": [
            "<class 'pandas.core.frame.DataFrame'>\n",
            "RangeIndex: 5976479 entries, 0 to 5976478\n",
            "Data columns (total 7 columns):\n",
            " #   Column          Dtype  \n",
            "---  ------          -----  \n",
            " 0   user_id         int64  \n",
            " 1   book_id         int64  \n",
            " 2   rating          int64  \n",
            " 3   title           object \n",
            " 4   authors         object \n",
            " 5   genres          object \n",
            " 6   average_rating  float64\n",
            "dtypes: float64(1), int64(3), object(3)\n",
            "memory usage: 319.2+ MB\n"
          ]
        }
      ],
      "source": [
        "book_rating.info()"
      ]
    },
    {
      "cell_type": "code",
      "execution_count": null,
      "metadata": {
        "id": "QaMyIsXw2cjg"
      },
      "outputs": [],
      "source": [
        "class Dataset():\n",
        "  def __init__(self, dataset):\n",
        "        self.df = dataset\n",
        "        train_data, test_data = self.train_test_split()\n",
        "\n",
        "  def train_test_split(self, test_size=0.2, random_state=42, stratify=None):\n",
        "    from sklearn.model_selection import train_test_split\n",
        "    train_data, test_data = train_test_split(self.df, test_size=test_size, random_state=random_state, stratify=stratify)\n",
        "    return train_data, test_data\n",
        "  def get_user_ids(self, data):\n",
        "    return data['user_id'].unique()\n",
        "  def get_book_ids(self, data):\n",
        "    return data['book_id'].unique()"
      ]
    },
    {
      "cell_type": "code",
      "execution_count": null,
      "metadata": {
        "id": "vON5Dd1T2z2j"
      },
      "outputs": [],
      "source": [
        "import numpy as np\n",
        "import math\n",
        "\n",
        "class RandomRecommender:\n",
        "    def __init__(self, train_data):\n",
        "        self.train_data = train_data\n",
        "        self.book_ids = np.unique(train_data['book_id'])\n",
        "\n",
        "    def predict(self, user_id, k=10):\n",
        "        return np.random.choice(self.book_ids, size=k, replace=False)\n",
        "\n",
        "    def evaluate(self, test_data, k=10):\n",
        "        user_ids = np.unique(test_data['user_id'])\n",
        "        hit_rate = []\n",
        "        ndcg_scores = []\n",
        "        count=0\n",
        "        for user_id in user_ids:\n",
        "            true_books = test_data[test_data['user_id'] == user_id]['book_id'].unique()\n",
        "            pred_books = self.predict(user_id, k)\n",
        "\n",
        "            hits = len(set(true_books) & set(pred_books))\n",
        "            hit_rate.append(hits / min(k, len(true_books)))\n",
        "\n",
        "            # Calculate DCG\n",
        "            dcg = sum([1 / math.log2(rank + 2) if pred_books[rank] in true_books else 0 for rank in range(k)])\n",
        "            # Calculate IDCG\n",
        "            idcg = sum([1 / math.log2(i + 2) for i in range(min(k, len(true_books)))])\n",
        "            # Calculate NDCG\n",
        "            ndcg = dcg / idcg if idcg > 0 else 0\n",
        "            ndcg_scores.append(ndcg)\n",
        "            count+=1\n",
        "            if count==5000:\n",
        "              break\n",
        "\n",
        "        avg_hit_rate = np.mean(hit_rate)\n",
        "        avg_ndcg = np.mean(ndcg_scores)\n",
        "        return avg_hit_rate, avg_ndcg"
      ]
    },
    {
      "cell_type": "code",
      "execution_count": null,
      "metadata": {
        "id": "FBM3ccla23qO"
      },
      "outputs": [],
      "source": [
        "train,test= Dataset(book_rating).train_test_split()"
      ]
    },
    {
      "cell_type": "code",
      "execution_count": null,
      "metadata": {
        "colab": {
          "base_uri": "https://localhost:8080/"
        },
        "id": "JszKnYqN3BOR",
        "outputId": "d80d6a8a-ac15-4786-c5da-f3f8ed64f66e"
      },
      "outputs": [
        {
          "name": "stdout",
          "output_type": "stream",
          "text": [
            "Hit Rate@10: 0.0023\n",
            "NDCG : 0.0024\n"
          ]
        }
      ],
      "source": [
        "recommender = RandomRecommender(train)\n",
        "hit_rate, ndcg = recommender.evaluate(test, k=10)\n",
        "print(f\"Hit Rate@10: {hit_rate:.4f}\")\n",
        "print(f\"NDCG : {ndcg:.4f}\")"
      ]
    },
    {
      "cell_type": "code",
      "execution_count": null,
      "metadata": {
        "id": "rK2ZEPeTCO4i"
      },
      "outputs": [],
      "source": [
        "import numpy as np\n",
        "import math\n",
        "\n",
        "class PopularityRecommender:\n",
        "    def __init__(self, train_data):\n",
        "        self.train_data = train_data\n",
        "        self.popular_books = self.get_popular_books()\n",
        "\n",
        "    def get_popular_books(self, n=1000):\n",
        "        book_counts = self.train_data['book_id'].value_counts()\n",
        "        popular_books = book_counts.index[:n].tolist()\n",
        "        return popular_books\n",
        "\n",
        "    def predict(self, user_id, k=10):\n",
        "        return np.random.choice(self.popular_books, size=k, replace=False)\n",
        "\n",
        "    def evaluate(self, test_data, k=10):\n",
        "        user_ids = np.unique(test_data['user_id'])\n",
        "        hit_rate = []\n",
        "        ndcg_scores = []\n",
        "        print(len(user_ids))\n",
        "        count=0\n",
        "        for user_id in user_ids:\n",
        "            true_books = test_data[test_data['user_id'] == user_id]['book_id'].unique()\n",
        "            pred_books = self.predict(user_id, k)\n",
        "\n",
        "            hits = len(set(true_books) & set(pred_books))\n",
        "            hit_rate.append(hits / min(k, len(true_books)))\n",
        "\n",
        "            # Calculate DCG\n",
        "            dcg = sum([1 / math.log2(rank + 2) if pred_books[rank] in true_books else 0 for rank in range(k)])\n",
        "            # Calculate IDCG\n",
        "            idcg = sum([1 / math.log2(i + 2) for i in range(min(k, len(true_books)))])\n",
        "            # Calculate NDCG\n",
        "            ndcg = dcg / idcg if idcg > 0 else 0\n",
        "            ndcg_scores.append(ndcg)\n",
        "            count+=1\n",
        "            if count==5000:\n",
        "              break\n",
        "        avg_hit_rate = np.mean(hit_rate)\n",
        "        avg_ndcg = np.mean(ndcg_scores)\n",
        "        return avg_hit_rate, avg_ndcg"
      ]
    },
    {
      "cell_type": "code",
      "execution_count": null,
      "metadata": {
        "colab": {
          "base_uri": "https://localhost:8080/"
        },
        "id": "GNxQI7Q5B8GS",
        "outputId": "6ac543b8-0e83-4d07-ad10-84a72b2c00de"
      },
      "outputs": [
        {
          "name": "stdout",
          "output_type": "stream",
          "text": [
            "53424\n",
            "Hit Rate@50: 0.0137\n",
            "NDCG : 0.0134\n",
            "Elapsed time: 14.6640 seconds\n"
          ]
        }
      ],
      "source": [
        "import time\n",
        "\n",
        "start_time = time.time()\n",
        "\n",
        "recommender = PopularityRecommender(train)\n",
        "\n",
        "hit_rate, ndcg = recommender.evaluate(test, k=10)\n",
        "print(f\"Hit Rate@50: {hit_rate:.4f}\")\n",
        "print(f\"NDCG : {ndcg:.4f}\")\n",
        "\n",
        "end_time = time.time()\n",
        "elapsed_time = end_time - start_time\n",
        "\n",
        "print(f\"Elapsed time: {elapsed_time:.4f} seconds\")"
      ]
    },
    {
      "cell_type": "markdown",
      "metadata": {
        "id": "x0oyE20bUTuR"
      },
      "source": [
        "# Content Based Filtering with Description Similarity"
      ]
    },
    {
      "cell_type": "code",
      "execution_count": null,
      "metadata": {
        "id": "YxvKhgDs2iRS"
      },
      "outputs": [],
      "source": [
        "import pandas as pd\n",
        "from ast import literal_eval\n",
        "books_df = pd.read_csv('data/books_enriched.csv',  index_col=[0], converters={\"genres\": literal_eval})\n",
        "ratings = pd.read_csv('data/ratings.csv', converters={\"genres\": literal_eval})"
      ]
    },
    {
      "cell_type": "code",
      "execution_count": null,
      "metadata": {
        "id": "_dFuO4kL1zZ1"
      },
      "outputs": [],
      "source": [
        "\n",
        "book_cols= ['book_id', 'title','description']\n",
        "books_df = books_df.dropna(subset=['description'])\n",
        "books_df = books_df[book_cols]\n",
        "book_rating = ratings.merge(books_df, on='book_id')\n"
      ]
    },
    {
      "cell_type": "code",
      "execution_count": null,
      "metadata": {
        "id": "_jA4QLMM5tcM"
      },
      "outputs": [],
      "source": [
        "import numpy as np\n",
        "import pandas as pd\n",
        "from sklearn.feature_extraction.text import TfidfVectorizer\n",
        "from sklearn.metrics.pairwise import cosine_similarity\n",
        "import math\n",
        "\n",
        "book_cols = ['book_id', 'title', 'description']\n",
        "books_df = books_df.dropna(subset=['description'])\n",
        "books_df = books_df[book_cols]\n",
        "book_rating = ratings.merge(books_df, on='book_id')\n",
        "\n",
        "books_df['description'] = books_df['description'].str.lower().str.replace('[^a-zA-Z0-9\\s]', '', regex=True)\n",
        "\n",
        "books_df = books_df.reset_index(drop=True)\n",
        "\n",
        "tfidf = TfidfVectorizer(stop_words='english')\n",
        "tfidf_matrix = tfidf.fit_transform(books_df['description'])\n",
        "\n",
        "cosine_sim = cosine_similarity(tfidf_matrix, tfidf_matrix)\n",
        "\n",
        "similar_books_data = []\n",
        "\n",
        "for idx, row in books_df.iterrows():\n",
        "    book_id = row['book_id']\n",
        "    similar_indices = cosine_sim[idx].argsort()[::-1][1:5]\n",
        "    similar_book_ids = books_df.iloc[similar_indices]['book_id'].tolist()\n",
        "    similar_books_data.append({'book_id': book_id, 'similar_books': similar_book_ids})\n",
        "\n",
        "similar_books_df = pd.DataFrame(similar_books_data)\n",
        "\n",
        "book_rating = book_rating.merge(similar_books_df, on='book_id', how='left')\n",
        "\n"
      ]
    },
    {
      "cell_type": "code",
      "execution_count": null,
      "metadata": {
        "colab": {
          "base_uri": "https://localhost:8080/"
        },
        "id": "bHPRLK18RLtm",
        "outputId": "fcafbc49-20ef-49d7-82f7-52458f4bef8b"
      },
      "outputs": [
        {
          "data": {
            "text/plain": [
              "[2833, 3015, 4393, 1467]"
            ]
          },
          "execution_count": 22,
          "metadata": {},
          "output_type": "execute_result"
        }
      ],
      "source": [
        "book_rating.similar_books[0]"
      ]
    },
    {
      "cell_type": "code",
      "execution_count": null,
      "metadata": {
        "id": "Ks2iiabHD16P"
      },
      "outputs": [],
      "source": [
        "class ContentBasedRecommender:\n",
        "    def __init__(self, train_data):\n",
        "        self.train_data = train_data\n",
        "\n",
        "    def predict(self, user_id, k=10):\n",
        "        user_books = set(self.train_data[self.train_data['user_id'] == user_id]['book_id'])\n",
        "        similar_books = set().union(*(self.train_data[self.train_data['book_id'] == book_id]['similar_books'].iloc[0] for book_id in user_books))\n",
        "        recommended_books = list(similar_books - user_books)\n",
        "\n",
        "        return np.random.choice(recommended_books, size=k, replace=False) if len(recommended_books) >= k else recommended_books\n",
        "\n",
        "    def evaluate(self, test_data, k=10):\n",
        "        user_ids = test_data['user_id'].unique()\n",
        "        hit_rate, ndcg_scores = [], []\n",
        "\n",
        "        for user_id in user_ids[:100]:\n",
        "            true_books = set(test_data[test_data['user_id'] == user_id]['book_id'])\n",
        "            pred_books = set(self.predict(user_id, k))\n",
        "\n",
        "            hits = len(true_books & pred_books)\n",
        "            hit_rate.append(hits / min(k, len(true_books)))\n",
        "\n",
        "            dcg = sum(1 / math.log2(rank + 2) for rank, book in enumerate(pred_books) if book in true_books)\n",
        "            idcg = sum(1 / math.log2(i + 2) for i in range(min(k, len(true_books))))\n",
        "            ndcg = dcg / idcg if idcg > 0 else 0\n",
        "            ndcg_scores.append(ndcg)\n",
        "\n",
        "        return np.mean(hit_rate), np.mean(ndcg_scores)\n",
        "\n",
        "\n"
      ]
    },
    {
      "cell_type": "code",
      "execution_count": null,
      "metadata": {
        "id": "4SGqbp6X4n49"
      },
      "outputs": [],
      "source": [
        "train,test= Dataset(book_rating).train_test_split()"
      ]
    },
    {
      "cell_type": "code",
      "execution_count": null,
      "metadata": {
        "colab": {
          "base_uri": "https://localhost:8080/"
        },
        "id": "H3bVKye24qgU",
        "outputId": "dfec51d6-34f3-432d-f6ee-1f07d9251a7d"
      },
      "outputs": [
        {
          "name": "stdout",
          "output_type": "stream",
          "text": [
            "Hit Rate@50: 0.0350\n",
            "NDCG : 0.0327\n",
            "Elapsed time: 106.2988 seconds\n"
          ]
        }
      ],
      "source": [
        "import time\n",
        "\n",
        "start_time = time.time()\n",
        "\n",
        "recommender = ContentBasedRecommender(train)\n",
        "\n",
        "hit_rate, ndcg = recommender.evaluate(test, k=10)\n",
        "print(f\"Hit Rate@50: {hit_rate:.4f}\")\n",
        "print(f\"NDCG : {ndcg:.4f}\")\n",
        "\n",
        "end_time = time.time()\n",
        "elapsed_time = end_time - start_time\n",
        "\n",
        "print(f\"Elapsed time: {elapsed_time:.4f} seconds\")"
      ]
    },
    {
      "cell_type": "code",
      "execution_count": null,
      "metadata": {
        "id": "a-pS8QxZOPZJ"
      },
      "outputs": [],
      "source": [
        "\n"
      ]
    },
    {
      "cell_type": "code",
      "execution_count": null,
      "metadata": {
        "id": "HIE9ykWzxxur"
      },
      "outputs": [],
      "source": [
        "import pickle\n",
        "\n",
        "\n",
        "with open(\"content_based_recommender.pkl\", \"wb\") as f:\n",
        "    pickle.dump(recommender, f)"
      ]
    },
    {
      "cell_type": "code",
      "execution_count": null,
      "metadata": {
        "id": "pVyvU1_D27SL"
      },
      "outputs": [],
      "source": [
        "with open('content_based_recommender.pkl', 'rb') as file:\n",
        "    loaded_recommender = pickle.load(file)"
      ]
    },
    {
      "cell_type": "code",
      "execution_count": null,
      "metadata": {
        "colab": {
          "base_uri": "https://localhost:8080/"
        },
        "id": "Af40ofOv3A5Z",
        "outputId": "217192dc-9379-4d48-c4c9-0fdec7ef40ba"
      },
      "outputs": [
        {
          "data": {
            "text/plain": [
              "array([8797, 5966, 4611, 6066, 2539,  247, 4575, 5860, 5486, 5961])"
            ]
          },
          "execution_count": 15,
          "metadata": {},
          "output_type": "execute_result"
        }
      ],
      "source": [
        "loaded_recommender.predict(18)"
      ]
    }
  ],
  "metadata": {
    "colab": {
      "provenance": []
    },
    "kernelspec": {
      "display_name": "Python 3",
      "name": "python3"
    },
    "language_info": {
      "name": "python"
    }
  },
  "nbformat": 4,
  "nbformat_minor": 0
}
